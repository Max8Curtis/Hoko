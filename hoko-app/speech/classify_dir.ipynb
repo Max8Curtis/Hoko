{
 "cells": [
  {
   "cell_type": "code",
   "execution_count": 4,
   "id": "5a61ab89",
   "metadata": {},
   "outputs": [
    {
     "name": "stdout",
     "output_type": "stream",
     "text": [
      "[('まっすぐ', 'ADV'), ('行っ', 'VERB'), ('て', 'SCONJ'), ('。', 'PUNCT')]\n"
     ]
    }
   ],
   "source": [
    "import spacy\n",
    "\n",
    "nlp = spacy.load(\"ja_core_news_sm\")"
   ]
  },
  {
   "cell_type": "code",
   "execution_count": 8,
   "id": "18d0e8ef",
   "metadata": {},
   "outputs": [
    {
     "name": "stdout",
     "output_type": "stream",
     "text": [
      "[('まっすぐ', 'ADV'), ('行っ', 'VERB'), ('て', 'SCONJ'), ('。', 'PUNCT')]\n"
     ]
    },
    {
     "data": {
      "text/plain": [
       "'subordinating conjunction'"
      ]
     },
     "execution_count": 8,
     "metadata": {},
     "output_type": "execute_result"
    }
   ],
   "source": [
    "doc = nlp('まっすぐ行って。')\n",
    "\n",
    "print([(w.text, w.pos_) for w in doc])\n",
    "\n",
    "spacy.explain('SCONJ')"
   ]
  }
 ],
 "metadata": {
  "kernelspec": {
   "display_name": "Python 3 (ipykernel)",
   "language": "python",
   "name": "python3"
  },
  "language_info": {
   "codemirror_mode": {
    "name": "ipython",
    "version": 3
   },
   "file_extension": ".py",
   "mimetype": "text/x-python",
   "name": "python",
   "nbconvert_exporter": "python",
   "pygments_lexer": "ipython3",
   "version": "3.10.8"
  }
 },
 "nbformat": 4,
 "nbformat_minor": 5
}
